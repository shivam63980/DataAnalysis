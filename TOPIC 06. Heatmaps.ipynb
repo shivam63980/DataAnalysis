{
 "cells": [
  {
   "cell_type": "markdown",
   "id": "745e65a5",
   "metadata": {},
   "source": [
    "## The heatmap\n",
    "\n",
    "A heatmap is a graph that extensively uses color for data visualization. The colors depend on several independent variables. There are two different kinds of heatmap: a cluster heatmap (a cell-matrix of different colors) and a spatial heatmap (it has no cells; the variable variation is considered continuous).\n",
    "\n",
    "## Dealing with data\n",
    "\n",
    "First, we need to prepare the data we want to plot. In this case, we've chosen the Iris Species dataset. It includes three iris species with 50 samples each as well as some properties about each flower."
   ]
  },
  {
   "cell_type": "code",
   "execution_count": null,
   "id": "52e27ba7",
   "metadata": {},
   "outputs": [],
   "source": [
    "df = pd.read_csv('../input/iris/Iris.csv')\n",
    "df.head()"
   ]
  },
  {
   "cell_type": "markdown",
   "id": "a3a69669",
   "metadata": {},
   "source": [
    "### Heatmaps are popular as correlation plots. We'll see whether there's a correlation between the SepalLength, SepalWidth,PetalLength parameters, and PetalWidth."
   ]
  },
  {
   "cell_type": "code",
   "execution_count": null,
   "id": "6d191ed5",
   "metadata": {},
   "outputs": [],
   "source": [
    "df = df[['SepalLengthCm', 'SepalWidthCm', 'PetalLengthCm', 'PetalWidthCm']]\n",
    "df.corr()"
   ]
  },
  {
   "cell_type": "markdown",
   "id": "598b0435",
   "metadata": {},
   "source": [
    "## A Simple heatmap\n",
    "\n",
    "There are several functions in matplotlib that you can use to create a heatmap. we'll focus on plt.imshow(). The only argument it requires is X – a dataset to a plot:"
   ]
  },
  {
   "cell_type": "code",
   "execution_count": null,
   "id": "22b9b792",
   "metadata": {},
   "outputs": [],
   "source": [
    "plt.imshow(df.corr())"
   ]
  },
  {
   "cell_type": "markdown",
   "id": "d928866f",
   "metadata": {},
   "source": [
    "**A dataset can be either a positional or a keyword argument, so you can type plt.imshow(X=df.corr()) or plt.imshow(df.corr()) — the result would be the same.**\n",
    "\n",
    "There iss another important argument this function can take — interpolation. It takes a str that specifies an interpolation we want on our plot. The default value is None."
   ]
  },
  {
   "cell_type": "markdown",
   "id": "c2f7e5cf",
   "metadata": {},
   "source": [
    "## Changing color and size\n",
    "\n",
    "Let's add a color bar, a scale that specifies the meaning of colors in our plot. All we need for that is the plt.colorbar() function without any arguments.By default, a color bar is a vertical line on the right side of the plot. If you want to put it beneath the heatmap, you can use the optional argument orientation and set it as orientation='horizontal'."
   ]
  },
  {
   "cell_type": "code",
   "execution_count": null,
   "id": "9bb612a3",
   "metadata": {},
   "outputs": [],
   "source": [
    "plt.imshow(df.corr(), cmap=\"Spectral\")\n",
    "plt.colorbar()\n",
    "plt.show()"
   ]
  },
  {
   "cell_type": "code",
   "execution_count": null,
   "id": "50e89bcf",
   "metadata": {},
   "outputs": [],
   "source": [
    "plt.imshow(df.corr(), cmap=\"Spectral\")\n",
    "plt.colorbar(orientation='horizontal')\n",
    "plt.show()"
   ]
  },
  {
   "cell_type": "markdown",
   "id": "4cd67f9f",
   "metadata": {},
   "source": [
    "### We can also change the size of plot just need the plt.gcf().set_size_inches() function it takes two integers as its arguments."
   ]
  },
  {
   "cell_type": "code",
   "execution_count": null,
   "id": "81f6a299",
   "metadata": {},
   "outputs": [],
   "source": [
    "plt.imshow(df.corr(), cmap=\"Spectral\")\n",
    "plt.colorbar(orientation='horizontal')\n",
    "plt.gcf().set_size_inches(10, 10)\n",
    "plt.show()"
   ]
  },
  {
   "cell_type": "markdown",
   "id": "f361c038",
   "metadata": {},
   "source": [
    "## Adding labels\n",
    "\n",
    "We can also add labels to our plot to make it more comprehensive. To add them to the plot, use functions plt.xticks() and plt.yticks() for X- and Y-axes."
   ]
  },
  {
   "cell_type": "code",
   "execution_count": 1,
   "id": "7b4c512d",
   "metadata": {},
   "outputs": [
    {
     "ename": "NameError",
     "evalue": "name 'plt' is not defined",
     "output_type": "error",
     "traceback": [
      "\u001b[1;31m---------------------------------------------------------------------------\u001b[0m",
      "\u001b[1;31mNameError\u001b[0m                                 Traceback (most recent call last)",
      "Input \u001b[1;32mIn [1]\u001b[0m, in \u001b[0;36m<cell line: 1>\u001b[1;34m()\u001b[0m\n\u001b[1;32m----> 1\u001b[0m \u001b[43mplt\u001b[49m\u001b[38;5;241m.\u001b[39mimshow(df\u001b[38;5;241m.\u001b[39mcorr(), cmap\u001b[38;5;241m=\u001b[39m\u001b[38;5;124m\"\u001b[39m\u001b[38;5;124mSpectral\u001b[39m\u001b[38;5;124m\"\u001b[39m)\n\u001b[0;32m      2\u001b[0m plt\u001b[38;5;241m.\u001b[39mcolorbar()\n\u001b[0;32m      3\u001b[0m plt\u001b[38;5;241m.\u001b[39mgcf()\u001b[38;5;241m.\u001b[39mset_size_inches(\u001b[38;5;241m10\u001b[39m, \u001b[38;5;241m10\u001b[39m)\n",
      "\u001b[1;31mNameError\u001b[0m: name 'plt' is not defined"
     ]
    }
   ],
   "source": [
    "plt.imshow(df.corr(), cmap=\"Spectral\")\n",
    "plt.colorbar()\n",
    "plt.gcf().set_size_inches(10, 10)\n",
    "plt.xticks(range(len(df.corr().columns)), df.corr().columns)\n",
    "plt.yticks(range(len(df.corr().columns)), df.corr().columns)\n",
    "plt.show()"
   ]
  },
  {
   "cell_type": "code",
   "execution_count": null,
   "id": "238b5346",
   "metadata": {},
   "outputs": [],
   "source": []
  }
 ],
 "metadata": {
  "kernelspec": {
   "display_name": "Python 3 (ipykernel)",
   "language": "python",
   "name": "python3"
  },
  "language_info": {
   "codemirror_mode": {
    "name": "ipython",
    "version": 3
   },
   "file_extension": ".py",
   "mimetype": "text/x-python",
   "name": "python",
   "nbconvert_exporter": "python",
   "pygments_lexer": "ipython3",
   "version": "3.9.13"
  }
 },
 "nbformat": 4,
 "nbformat_minor": 5
}
