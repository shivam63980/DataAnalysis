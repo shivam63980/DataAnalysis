{
 "cells": [
  {
   "cell_type": "markdown",
   "id": "9eb8ec54",
   "metadata": {},
   "source": [
    "# NUMPY"
   ]
  },
  {
   "cell_type": "code",
   "execution_count": 1,
   "id": "ca10a7d6",
   "metadata": {},
   "outputs": [],
   "source": [
    "import numpy as np"
   ]
  },
  {
   "cell_type": "markdown",
   "id": "9ae04e1c",
   "metadata": {},
   "source": [
    "# Aggregate Functions"
   ]
  },
  {
   "cell_type": "code",
   "execution_count": 2,
   "id": "b1597293",
   "metadata": {},
   "outputs": [
    {
     "name": "stdout",
     "output_type": "stream",
     "text": [
      "[1 2 5 8 9]\n",
      "sum of Array : 25\n"
     ]
    }
   ],
   "source": [
    "# Array-wise sum\n",
    "\n",
    "a=np.array([1,2,5,8,9])\n",
    "print(a)\n",
    "c=a.sum()\n",
    "print(\"sum of Array :\", c)"
   ]
  },
  {
   "cell_type": "code",
   "execution_count": 3,
   "id": "7a27a9a3",
   "metadata": {},
   "outputs": [
    {
     "name": "stdout",
     "output_type": "stream",
     "text": [
      "[8 9 7 3 6]\n",
      "Minimun value : 3\n"
     ]
    }
   ],
   "source": [
    "# Array-wise minimum value\n",
    "\n",
    "a=np.array([8,9,7,3,6])\n",
    "print(a)\n",
    "b=a.min()\n",
    "print(\"Minimun value :\", b)"
   ]
  },
  {
   "cell_type": "code",
   "execution_count": 4,
   "id": "10f015e7",
   "metadata": {},
   "outputs": [
    {
     "name": "stdout",
     "output_type": "stream",
     "text": [
      "[8 6 4 0 9]\n",
      "Maximum value : 9\n"
     ]
    }
   ],
   "source": [
    "# Maximum value of an array row\n",
    "\n",
    "a=np.array([8,6,4,0,9])\n",
    "print(a)\n",
    "b=a.max(axis=0)\n",
    "print(\"Maximum value :\", b)"
   ]
  },
  {
   "cell_type": "code",
   "execution_count": 5,
   "id": "b849a5f8",
   "metadata": {},
   "outputs": [
    {
     "name": "stdout",
     "output_type": "stream",
     "text": [
      "[[1 2 5 6 3]\n",
      " [7 8 9 2 3]]\n",
      "Cumulative sum : [[ 1  2  5  6  3]\n",
      " [ 8 10 14  8  6]]\n"
     ]
    }
   ],
   "source": [
    "# Row Cumulative sum of the elements\n",
    "\n",
    "a=np.array([[1,2,5,6,3],[7,8,9,2,3]])\n",
    "print(a)\n",
    "b=a.cumsum(axis=0)\n",
    "print(\"Cumulative sum :\", b)"
   ]
  },
  {
   "cell_type": "code",
   "execution_count": 6,
   "id": "247a9a96",
   "metadata": {},
   "outputs": [
    {
     "name": "stdout",
     "output_type": "stream",
     "text": [
      "[[1 2 5 6 3]\n",
      " [7 8 9 2 3]]\n",
      "Cumulative sum : [[ 1  3  8 14 17]\n",
      " [ 7 15 24 26 29]]\n"
     ]
    }
   ],
   "source": [
    "# Cumulative sum of the elements\n",
    "\n",
    "a=np.array([[1,2,5,6,3],[7,8,9,2,3]])\n",
    "print(a)\n",
    "b=a.cumsum(axis=1)\n",
    "print(\"Cumulative sum :\", b)"
   ]
  },
  {
   "cell_type": "code",
   "execution_count": 7,
   "id": "22ca7f06",
   "metadata": {},
   "outputs": [
    {
     "name": "stdout",
     "output_type": "stream",
     "text": [
      "[4 8 6 0 3]\n",
      "Mean value : 4.2\n"
     ]
    }
   ],
   "source": [
    "# Mean value\n",
    "\n",
    "a=np.array([4,8,6,0,3])\n",
    "print(a)\n",
    "b=a.mean()\n",
    "print(\"Mean value :\", b)"
   ]
  },
  {
   "cell_type": "code",
   "execution_count": 8,
   "id": "927535ee",
   "metadata": {},
   "outputs": [
    {
     "name": "stdout",
     "output_type": "stream",
     "text": [
      "[1 2 3 4 5]\n",
      "Median value : 3.0\n"
     ]
    }
   ],
   "source": [
    "# Median value\n",
    "\n",
    "a=np.array([1,2,3,4,5])\n",
    "print(a)\n",
    "b=np.median(a)\n",
    "print(\"Median value :\", b)"
   ]
  },
  {
   "cell_type": "code",
   "execution_count": 9,
   "id": "db71335e",
   "metadata": {},
   "outputs": [
    {
     "name": "stdout",
     "output_type": "stream",
     "text": [
      "[8 6 4 0 9]\n",
      "Coorelation : 1.0\n"
     ]
    }
   ],
   "source": [
    "#  Correlation coefficient\n",
    "\n",
    "a=np.array([8,6,4,0,9])\n",
    "print(a)\n",
    "b=np.corrcoef(a)\n",
    "print(\"Coorelation :\", b)"
   ]
  },
  {
   "cell_type": "code",
   "execution_count": 10,
   "id": "f2bcf942",
   "metadata": {},
   "outputs": [
    {
     "name": "stdout",
     "output_type": "stream",
     "text": [
      "[[1 2 3]\n",
      " [4 8 5]]\n",
      "Coorelation : [[1.         0.24019223]\n",
      " [0.24019223 1.        ]]\n"
     ]
    }
   ],
   "source": [
    "#  Correlation coefficient\n",
    "\n",
    "\n",
    "a=np.array([[1,2,3],[4,8,5]])\n",
    "print(a)\n",
    "b=np.corrcoef(a)\n",
    "print(\"Coorelation :\", b)"
   ]
  },
  {
   "cell_type": "code",
   "execution_count": 11,
   "id": "027f4443",
   "metadata": {},
   "outputs": [
    {
     "name": "stdout",
     "output_type": "stream",
     "text": [
      "[7 8 9 2 4]\n",
      "Standard Deviation : 2.6076809620810595\n"
     ]
    }
   ],
   "source": [
    "# Standard deviation\n",
    "\n",
    "a=np.array([7,8,9,2,4])\n",
    "print(a)\n",
    "b=np.std(a)\n",
    "print(\"Standard Deviation :\", b)"
   ]
  },
  {
   "cell_type": "code",
   "execution_count": 12,
   "id": "a75329eb",
   "metadata": {},
   "outputs": [
    {
     "name": "stdout",
     "output_type": "stream",
     "text": [
      "[[1 2 3]\n",
      " [4 8 5]]\n",
      "Standard Deviation : 2.266911751455907\n"
     ]
    }
   ],
   "source": [
    "#  Standard Deviation\n",
    "\n",
    "a=np.array([[1,2,3],[4,8,5]])\n",
    "print(a)\n",
    "b=np.std(a)\n",
    "print(\"Standard Deviation :\", b)"
   ]
  },
  {
   "cell_type": "markdown",
   "id": "5c44b8f8",
   "metadata": {},
   "source": [
    "#  Comparison"
   ]
  },
  {
   "cell_type": "code",
   "execution_count": 14,
   "id": "dba7ee20",
   "metadata": {},
   "outputs": [
    {
     "name": "stdout",
     "output_type": "stream",
     "text": [
      "Element-wise comparison : [False False False False]\n"
     ]
    }
   ],
   "source": [
    "# Element-wise comparison\n",
    "\n",
    "a=np.array([1,7,5,6])\n",
    "b=np.array([3,4,2,9])\n",
    "c=a==b\n",
    "print(\"Element-wise comparison :\", c)"
   ]
  },
  {
   "cell_type": "code",
   "execution_count": 15,
   "id": "35054c86",
   "metadata": {},
   "outputs": [
    {
     "name": "stdout",
     "output_type": "stream",
     "text": [
      "Element-wise comparison : [ True False  True False]\n"
     ]
    }
   ],
   "source": [
    "# Element-wise comparison\n",
    "\n",
    "a=np.array([1,7,5,6])\n",
    "b=np.array([1,4,5,9])\n",
    "c=a==b\n",
    "print(\"Element-wise comparison :\", c)"
   ]
  },
  {
   "cell_type": "code",
   "execution_count": 16,
   "id": "24591109",
   "metadata": {},
   "outputs": [
    {
     "name": "stdout",
     "output_type": "stream",
     "text": [
      "Array-wise comparison  : False\n"
     ]
    }
   ],
   "source": [
    "# Array-wise comparison\n",
    "\n",
    "a=np.array([1,7,5,6])\n",
    "b=np.array([1,4,5,9])\n",
    "c=np.array_equal(a,b)\n",
    "print(\"Array-wise comparison  :\", c)"
   ]
  },
  {
   "cell_type": "code",
   "execution_count": 17,
   "id": "433026f9",
   "metadata": {},
   "outputs": [
    {
     "name": "stdout",
     "output_type": "stream",
     "text": [
      "Array-wise comparison  : True\n"
     ]
    }
   ],
   "source": [
    " # Array-wise comparison\n",
    "\n",
    "a=np.array([1,4,5,9])\n",
    "b=np.array([1,4,5,9])\n",
    "c=np.array_equal(a,b)\n",
    "print(\"Array-wise comparison  :\", c)"
   ]
  },
  {
   "cell_type": "code",
   "execution_count": 19,
   "id": "5ef157c1",
   "metadata": {},
   "outputs": [
    {
     "name": "stdout",
     "output_type": "stream",
     "text": [
      "[ True False False False]\n"
     ]
    }
   ],
   "source": [
    "# Element-wise comparison\n",
    "\n",
    "a=np.array([1,7,5,6])\n",
    "b=a<2\n",
    "print(\"Element-wise comparison :\", b)"
   ]
  },
  {
   "cell_type": "code",
   "execution_count": 22,
   "id": "91c3d6f3",
   "metadata": {},
   "outputs": [
    {
     "name": "stdout",
     "output_type": "stream",
     "text": [
      "Element-wise comparison : [ True  True False  True]\n"
     ]
    }
   ],
   "source": [
    "# Element-wise comparison\n",
    "\n",
    "a=np.array([1,3,5,2])\n",
    "b=a<5\n",
    "print(\"Element-wise comparison :\", b)"
   ]
  },
  {
   "cell_type": "code",
   "execution_count": 23,
   "id": "06425504",
   "metadata": {},
   "outputs": [
    {
     "name": "stdout",
     "output_type": "stream",
     "text": [
      "Element-wise comparison : [ True  True  True  True]\n"
     ]
    }
   ],
   "source": [
    "# Element-wise comparison\n",
    "\n",
    "a=np.array([1,3,5,2])\n",
    "b=a<=5\n",
    "print(\"Element-wise comparison :\", b)"
   ]
  },
  {
   "cell_type": "code",
   "execution_count": null,
   "id": "75b3e3a2",
   "metadata": {},
   "outputs": [],
   "source": [
    "Indexing\n",
    "Boolean Indexing\n",
    "a[a<2] #Select elements from a less than 2\n",
    "array([1])\n",
    "Fancy Indexing\n",
    "b[[1, 0, 1, 0],[0, 1, 2, 0]] #Select elements (1,0),(0,1),(1,2) and (0,0)\n",
    "array([ 4. , 2. , 6. , 1.5])\n",
    "b[[1, 0, 1, 0]][:,[0,1,2,0]] #Select a subset of the matrix’s rows and columns\n",
    "array([[ 4. ,5. , 6. , 4. ],\n",
    "[ 1.5, 2. , 3. , 1.5],\n",
    "[ 4. , 5. , 6. , 4. ],\n",
    "[ 1.5, 2. , 3. , 1.5]]"
   ]
  },
  {
   "cell_type": "markdown",
   "id": "93f98f42",
   "metadata": {},
   "source": [
    "# Indexing "
   ]
  },
  {
   "cell_type": "markdown",
   "id": "ecd2e8ac",
   "metadata": {},
   "source": [
    "# Boolean Indexing"
   ]
  },
  {
   "cell_type": "code",
   "execution_count": 31,
   "id": "ae2db175",
   "metadata": {},
   "outputs": [
    {
     "name": "stdout",
     "output_type": "stream",
     "text": [
      "elements from a less than 2 :   [1 0]\n"
     ]
    }
   ],
   "source": [
    "# Select elements from a less than 2\n",
    "\n",
    "a=np.array([1,8,9,0])\n",
    "b=a[a<2]\n",
    "print(\"elements from a less than 2 :  \", b)"
   ]
  },
  {
   "cell_type": "markdown",
   "id": "4770bf23",
   "metadata": {},
   "source": [
    "# Fancy Indexing"
   ]
  },
  {
   "cell_type": "code",
   "execution_count": 41,
   "id": "f71706c7",
   "metadata": {},
   "outputs": [
    {
     "name": "stdout",
     "output_type": "stream",
     "text": [
      "select_element :  [2 4 6 8]\n"
     ]
    }
   ],
   "source": [
    "# Selecting Element\n",
    "\n",
    "a= np.array([1, 2, 3, 4, 5, 6, 7, 8])\n",
    "b= a[[1,3,5,7]]\n",
    "print(\"select_element : \",b)"
   ]
  },
  {
   "cell_type": "code",
   "execution_count": 42,
   "id": "9e5235ef",
   "metadata": {},
   "outputs": [
    {
     "name": "stdout",
     "output_type": "stream",
     "text": [
      "Simple Indexing: 4\n",
      "Fancy Indexing: [2 3 6 8]\n"
     ]
    }
   ],
   "source": [
    "# Single & Multiple Element\n",
    "\n",
    "a= np.array([1, 2, 3, 4, 5, 6, 7, 8])\n",
    "simple_indexing = a[3]\n",
    "print(\"Simple Indexing:\",simple_indexing)   \n",
    "fancy_indexing = a[[1, 2, 5, 7]]\n",
    "print(\"Fancy Indexing:\",fancy_indexing)   "
   ]
  },
  {
   "cell_type": "code",
   "execution_count": 49,
   "id": "74b245d0",
   "metadata": {},
   "outputs": [
    {
     "name": "stdout",
     "output_type": "stream",
     "text": [
      "Selecting The Row : [[ 1  3  5]\n",
      " [13 18 29]]\n"
     ]
    }
   ],
   "source": [
    "a= np.array([[1, 3, 5], \n",
    "                [11, 7, 9], \n",
    "                [13, 18, 29]])\n",
    "\n",
    "# create an array of row indices\n",
    "row= np.array([0, 2])\n",
    "\n",
    "# use fancy indexing to select specific rows\n",
    "selected_row = a[row, :]\n",
    "\n",
    "print(\"Selecting The Row :\",selected_row)"
   ]
  },
  {
   "cell_type": "code",
   "execution_count": 62,
   "id": "2df04cb4",
   "metadata": {},
   "outputs": [
    {
     "name": "stdout",
     "output_type": "stream",
     "text": [
      "Sorting The Array In Descending Order  : [8 7 6 5 4 3 2 1]\n"
     ]
    }
   ],
   "source": [
    "# Indexing and Sorting (Ascending & Descending)\n",
    "\n",
    "a= np.array([3, 2, 6, 1, 8, 5, 7, 4])\n",
    "\n",
    "# sort array1 using fancy indexing in descending order\n",
    "des_sort= a[np.argsort(-a)]\n",
    "print(\"Sorting The Array In Descending Order  :\", des_sort)"
   ]
  },
  {
   "cell_type": "code",
   "execution_count": 61,
   "id": "5e7f0e2c",
   "metadata": {},
   "outputs": [
    {
     "name": "stdout",
     "output_type": "stream",
     "text": [
      "Sorting The Array In Ascending order  : [1 2 3 4 5 6 7 8]\n"
     ]
    }
   ],
   "source": [
    "# Indexing and Sorting (Ascending & Descending)\n",
    "\n",
    "a= np.array([3, 2, 6, 1, 8, 5, 7, 4])\n",
    "\n",
    "# sort array1 using fancy indexing in ascending order\n",
    "asc_sort=a[np.argsort(a)]\n",
    "print(\"Sorting The Array In Ascending order  :\", asc_sort)"
   ]
  },
  {
   "cell_type": "code",
   "execution_count": null,
   "id": "6bda70ac",
   "metadata": {},
   "outputs": [],
   "source": []
  }
 ],
 "metadata": {
  "kernelspec": {
   "display_name": "Python 3 (ipykernel)",
   "language": "python",
   "name": "python3"
  },
  "language_info": {
   "codemirror_mode": {
    "name": "ipython",
    "version": 3
   },
   "file_extension": ".py",
   "mimetype": "text/x-python",
   "name": "python",
   "nbconvert_exporter": "python",
   "pygments_lexer": "ipython3",
   "version": "3.9.13"
  }
 },
 "nbformat": 4,
 "nbformat_minor": 5
}
