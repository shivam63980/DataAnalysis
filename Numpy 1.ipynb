{
 "cells": [
  {
   "cell_type": "markdown",
   "id": "38a3c4ee",
   "metadata": {},
   "source": [
    "# Numpy"
   ]
  },
  {
   "cell_type": "code",
   "execution_count": 1,
   "id": "0eb18336",
   "metadata": {},
   "outputs": [],
   "source": [
    "import numpy as np"
   ]
  },
  {
   "cell_type": "markdown",
   "id": "e4f77e82",
   "metadata": {},
   "source": [
    "# Create Array"
   ]
  },
  {
   "cell_type": "code",
   "execution_count": 2,
   "id": "d9becc72",
   "metadata": {},
   "outputs": [
    {
     "name": "stdout",
     "output_type": "stream",
     "text": [
      "[1 2 3]\n",
      "dimension 1\n"
     ]
    }
   ],
   "source": [
    "# create 1-D array\n",
    "\n",
    "a=np.array([1,2,3])\n",
    "print(a)\n",
    "print(\"dimension\",a.ndim)"
   ]
  },
  {
   "cell_type": "code",
   "execution_count": 3,
   "id": "930c25fe",
   "metadata": {},
   "outputs": [
    {
     "name": "stdout",
     "output_type": "stream",
     "text": [
      "[[1 2 3]\n",
      " [4 5 6]]\n",
      "dimension 2\n"
     ]
    }
   ],
   "source": [
    "# create 2-D array\n",
    "\n",
    "a=np.array([[1,2,3],[4,5,6]])\n",
    "print(a)\n",
    "print(\"dimension\",a.ndim)"
   ]
  },
  {
   "cell_type": "code",
   "execution_count": 4,
   "id": "24d90e58",
   "metadata": {},
   "outputs": [
    {
     "name": "stdout",
     "output_type": "stream",
     "text": [
      "[[[1 2 3]\n",
      "  [4 5 6]\n",
      "  [7 8 9]]]\n",
      "dimension 3\n"
     ]
    }
   ],
   "source": [
    "# create 3-D array\n",
    "\n",
    "a=np.array([[[1,2,3],[4,5,6],[7,8,9]]])\n",
    "print(a)\n",
    "print(\"dimension\",a.ndim)"
   ]
  },
  {
   "cell_type": "code",
   "execution_count": 5,
   "id": "363df413",
   "metadata": {},
   "outputs": [
    {
     "data": {
      "text/plain": [
       "array([[0., 0.],\n",
       "       [0., 0.]])"
      ]
     },
     "execution_count": 5,
     "metadata": {},
     "output_type": "execute_result"
    }
   ],
   "source": [
    "# create an arrays of ZEROS\n",
    "\n",
    "a=np.zeros((2,2))\n",
    "a"
   ]
  },
  {
   "cell_type": "code",
   "execution_count": 6,
   "id": "76861945",
   "metadata": {},
   "outputs": [
    {
     "name": "stdout",
     "output_type": "stream",
     "text": [
      "[[1. 1.]]\n",
      "dimension 2\n",
      "<class 'numpy.ndarray'>\n"
     ]
    }
   ],
   "source": [
    "# create an arrays of ONES\n",
    "\n",
    "a=np.ones((1,2))\n",
    "print(a)\n",
    "print(\"dimension\",a.ndim)\n",
    "print(type(a))"
   ]
  },
  {
   "cell_type": "code",
   "execution_count": 7,
   "id": "75350266",
   "metadata": {},
   "outputs": [
    {
     "name": "stdout",
     "output_type": "stream",
     "text": [
      "[[[1 1 1 1]\n",
      "  [1 1 1 1]\n",
      "  [1 1 1 1]]\n",
      "\n",
      " [[1 1 1 1]\n",
      "  [1 1 1 1]\n",
      "  [1 1 1 1]]]\n",
      "dimension 3\n",
      "<class 'int'>\n"
     ]
    }
   ],
   "source": [
    "# create an arrays of ONES\n",
    "\n",
    "a=np.ones((2,3,4),dtype=np.int16)\n",
    "print(a)\n",
    "print(\"dimension\",a.ndim)\n",
    "print(type(1))"
   ]
  },
  {
   "cell_type": "code",
   "execution_count": 8,
   "id": "a6db5d28",
   "metadata": {},
   "outputs": [
    {
     "name": "stdout",
     "output_type": "stream",
     "text": [
      "[10 15 20]\n",
      "dimension 1\n"
     ]
    }
   ],
   "source": [
    "# create anarray of evenly spaced value (STEP VALUE)\n",
    "\n",
    "a=np.arange(10,25,5)\n",
    "print(a)\n",
    "print(\"dimension\",a.ndim)"
   ]
  },
  {
   "cell_type": "code",
   "execution_count": 9,
   "id": "01361d93",
   "metadata": {},
   "outputs": [
    {
     "name": "stdout",
     "output_type": "stream",
     "text": [
      "[0.    0.125 0.25  0.375 0.5   0.625 0.75  0.875 1.   ]\n",
      "dimension 1\n"
     ]
    }
   ],
   "source": [
    "# create an array of evenly spaced value \n",
    "\n",
    "a=np.linspace(0,1,9)\n",
    "print(a)\n",
    "print(\"dimension\",a.ndim)"
   ]
  },
  {
   "cell_type": "code",
   "execution_count": 10,
   "id": "11e4f882",
   "metadata": {},
   "outputs": [
    {
     "name": "stdout",
     "output_type": "stream",
     "text": [
      "[[7 7 7 7]\n",
      " [7 7 7 7]]\n",
      "dimension 2\n"
     ]
    }
   ],
   "source": [
    "# create an constant array\n",
    "\n",
    "a=np.full((2,4),7)\n",
    "print(a)\n",
    "print(\"dimension\",a.ndim)"
   ]
  },
  {
   "cell_type": "code",
   "execution_count": 11,
   "id": "b6429831",
   "metadata": {},
   "outputs": [
    {
     "data": {
      "text/plain": [
       "array([[1., 0.],\n",
       "       [0., 1.]])"
      ]
     },
     "execution_count": 11,
     "metadata": {},
     "output_type": "execute_result"
    }
   ],
   "source": [
    "# create a 2x2 identity matrix\n",
    "\n",
    "a=np.eye(2)\n",
    "a"
   ]
  },
  {
   "cell_type": "code",
   "execution_count": 12,
   "id": "e2ada1a0",
   "metadata": {},
   "outputs": [
    {
     "data": {
      "text/plain": [
       "array([[1., 0., 0.],\n",
       "       [0., 1., 0.],\n",
       "       [0., 0., 1.]])"
      ]
     },
     "execution_count": 12,
     "metadata": {},
     "output_type": "execute_result"
    }
   ],
   "source": [
    "# create a 3x3 identity matrix\n",
    "\n",
    "a=np.eye(3)\n",
    "a"
   ]
  },
  {
   "cell_type": "code",
   "execution_count": 13,
   "id": "cea12720",
   "metadata": {},
   "outputs": [
    {
     "data": {
      "text/plain": [
       "array([0.87382951, 0.37637391, 0.45426884])"
      ]
     },
     "execution_count": 13,
     "metadata": {},
     "output_type": "execute_result"
    }
   ],
   "source": [
    "# create an array with random values\n",
    "\n",
    "a=np.random.random((3))\n",
    "a"
   ]
  },
  {
   "cell_type": "code",
   "execution_count": 14,
   "id": "ed390445",
   "metadata": {},
   "outputs": [
    {
     "data": {
      "text/plain": [
       "array([[1.39069238e-309, 1.39069238e-309],\n",
       "       [1.39069238e-309, 1.39069238e-309],\n",
       "       [1.39069238e-309, 1.39069238e-309]])"
      ]
     },
     "execution_count": 14,
     "metadata": {},
     "output_type": "execute_result"
    }
   ],
   "source": [
    "# create an empty array\n",
    "\n",
    "a=np.empty((3,2))\n",
    "a"
   ]
  },
  {
   "cell_type": "markdown",
   "id": "2133bc1c",
   "metadata": {},
   "source": [
    "# Inspecting Your Array"
   ]
  },
  {
   "cell_type": "code",
   "execution_count": 15,
   "id": "129300ee",
   "metadata": {},
   "outputs": [
    {
     "name": "stdout",
     "output_type": "stream",
     "text": [
      "[1 2 3 4 5 6]\n",
      "Shape of array (6,)\n",
      "Length of array  6\n",
      "Number of array dimensions 1\n",
      "Number of array elements 6\n",
      "Data type of array elements int32\n",
      "Name of data type int32\n",
      "Convert an array to a different type [1. 2. 3. 4. 5. 6.]\n"
     ]
    }
   ],
   "source": [
    "a=np.array([1,2,3,4,5,6])\n",
    "print(a)\n",
    "\n",
    "print(\"Shape of array\",a.shape)                                       #Array dimensions\n",
    "print(\"Length of array \",len(a))                                      #Length of Array\n",
    "print(\"Number of array dimensions\",a.ndim)                            #Number of array dimensions\n",
    "print(\"Number of array elements\",a.size)                              #Number of array elements\n",
    "print(\"Data type of array elements\",a.dtype)                          #Data type of array elements\n",
    "print(\"Name of data type\",a.dtype.name)                               #Name of data type\n",
    "print(\"Convert an array to a different type\",a.astype(float))         #Convert an array to a different type"
   ]
  },
  {
   "cell_type": "markdown",
   "id": "4546480c",
   "metadata": {},
   "source": [
    "# Data Types"
   ]
  },
  {
   "cell_type": "code",
   "execution_count": 16,
   "id": "07365816",
   "metadata": {},
   "outputs": [
    {
     "data": {
      "text/plain": [
       "numpy.int64"
      ]
     },
     "execution_count": 16,
     "metadata": {},
     "output_type": "execute_result"
    }
   ],
   "source": [
    "np.int64                     #Signed 64-bit integer types\n",
    "# np.float32                 #Standard double-precision floating point\n",
    "# np.complex                 #Complex numbers represented by 128 floats\n",
    "# np.bool                    #Boolean type storing TRUE and FALSE values Numpy\n",
    "# np.object                  #Python object type\n",
    "# np.string_                 #Fixed-length string type\n",
    "# np.unicode_                #Fixed-length unicode type"
   ]
  },
  {
   "cell_type": "markdown",
   "id": "03881d84",
   "metadata": {},
   "source": [
    "# Copying Arrays"
   ]
  },
  {
   "cell_type": "code",
   "execution_count": 17,
   "id": "8403e0cf",
   "metadata": {},
   "outputs": [
    {
     "name": "stdout",
     "output_type": "stream",
     "text": [
      "[1 2 3 4]\n",
      "hview [1 2 3 4]\n"
     ]
    }
   ],
   "source": [
    "# view of array\n",
    "\n",
    "a=np.array([1,2,3,4])\n",
    "print(a)\n",
    "h=a.view()\n",
    "print(\"hview\",h)\n"
   ]
  },
  {
   "cell_type": "code",
   "execution_count": 18,
   "id": "6385d650",
   "metadata": {},
   "outputs": [
    {
     "name": "stdout",
     "output_type": "stream",
     "text": [
      "[1 2 3 4]\n",
      "hview [1 2 3 4]\n",
      "hcopy [1 2 3 4]\n"
     ]
    }
   ],
   "source": [
    "# copy of array\n",
    "\n",
    "a=np.array([1,2,3,4])\n",
    "print(a)\n",
    "h=a.view()\n",
    "print(\"hview\",h)\n",
    "np.copy(a)\n",
    "h=a.copy()\n",
    "print(\"hcopy\",h)"
   ]
  },
  {
   "cell_type": "markdown",
   "id": "a582c716",
   "metadata": {},
   "source": [
    "# Solving & Loading On Disk"
   ]
  },
  {
   "cell_type": "code",
   "execution_count": 19,
   "id": "4698d3e0",
   "metadata": {},
   "outputs": [
    {
     "data": {
      "text/plain": [
       "array([1, 2, 3, 4])"
      ]
     },
     "execution_count": 19,
     "metadata": {},
     "output_type": "execute_result"
    }
   ],
   "source": [
    "# Save Array\n",
    "\n",
    "a=np.array([1,2,3,4])\n",
    "np.save(\"my_array\",a)\n",
    "a"
   ]
  },
  {
   "cell_type": "code",
   "execution_count": 21,
   "id": "da0d308e",
   "metadata": {},
   "outputs": [],
   "source": [
    "np.savez('array.npz')"
   ]
  },
  {
   "cell_type": "code",
   "execution_count": 22,
   "id": "96a58dc7",
   "metadata": {},
   "outputs": [
    {
     "data": {
      "text/plain": [
       "array([1, 2, 3, 4])"
      ]
     },
     "execution_count": 22,
     "metadata": {},
     "output_type": "execute_result"
    }
   ],
   "source": [
    "# loading the array\n",
    "\n",
    "np.load('my_array.npy')"
   ]
  },
  {
   "cell_type": "markdown",
   "id": "f8eb9b30",
   "metadata": {},
   "source": [
    "# Sorting Array"
   ]
  },
  {
   "cell_type": "code",
   "execution_count": null,
   "id": "b6ea80d1",
   "metadata": {},
   "outputs": [],
   "source": [
    "a=np.array([12,45,36,78,95,16,0,100,2])\n",
    "print(a)"
   ]
  },
  {
   "cell_type": "code",
   "execution_count": null,
   "id": "0a4013dc",
   "metadata": {},
   "outputs": [],
   "source": [
    "#  Sort Array\n",
    "\n",
    "a.sort()\n",
    "print(\"Sort Of An Array\",a)"
   ]
  },
  {
   "cell_type": "code",
   "execution_count": null,
   "id": "47df3118",
   "metadata": {},
   "outputs": [],
   "source": [
    "b=np.array([75,84,1,95,36,42])\n",
    "print(b)"
   ]
  },
  {
   "cell_type": "code",
   "execution_count": null,
   "id": "5590a729",
   "metadata": {},
   "outputs": [],
   "source": [
    "#  Sort the elements of an array's axis\n",
    "\n",
    "b.sort(axis=0) \n",
    "print(\"Sort Of An Array\",b)"
   ]
  },
  {
   "cell_type": "markdown",
   "id": "622511e8",
   "metadata": {},
   "source": [
    "#  Array Mathematics  , Arithmetic Operations"
   ]
  },
  {
   "cell_type": "code",
   "execution_count": null,
   "id": "ead26804",
   "metadata": {},
   "outputs": [],
   "source": [
    "# Addition of two Arrays \n",
    "\n",
    "a=np.array([1,2,3])\n",
    "b=np.array([4,5,6])\n",
    "c=np.add(b,a)\n",
    "print(\"Sum Of Two Array\",c)"
   ]
  },
  {
   "cell_type": "code",
   "execution_count": null,
   "id": "6ccbdb12",
   "metadata": {},
   "outputs": [],
   "source": [
    "# Subtraction of two Arrays \n",
    "\n",
    "a=np.array([4,5,6])\n",
    "b=np.array([1,2,3])\n",
    "c=np.subtract(a,b)\n",
    "print(\"Subtract Of Two Array\",c)"
   ]
  },
  {
   "cell_type": "code",
   "execution_count": null,
   "id": "0d478ecd",
   "metadata": {},
   "outputs": [],
   "source": [
    "# Multiplly of two Arrays \n",
    "\n",
    "a=np.array([6,3,5])\n",
    "b=np.array([1,2,3])\n",
    "c=np.multiply(a,b)\n",
    "print(\"Multiply Of Two Array\",c)"
   ]
  },
  {
   "cell_type": "code",
   "execution_count": null,
   "id": "4f66c92f",
   "metadata": {},
   "outputs": [],
   "source": [
    "# Dividing of two Arrays \n",
    "\n",
    "a=np.array([4,5,6])\n",
    "b=np.array([1,2,3])\n",
    "c=np.divide(a,b)\n",
    "print(\"Divide Of Two Array\",c)"
   ]
  },
  {
   "cell_type": "code",
   "execution_count": null,
   "id": "9d66269a",
   "metadata": {},
   "outputs": [],
   "source": [
    "#Exponentiation\n",
    "\n",
    "a=np.array([2,3,6])\n",
    "c=np.exp(a) \n",
    "print(\"Exponentiation\",c)"
   ]
  },
  {
   "cell_type": "code",
   "execution_count": null,
   "id": "b76c6e21",
   "metadata": {},
   "outputs": [],
   "source": [
    "#Square root\n",
    "\n",
    "a=np.array([25,64,81,36])\n",
    "b=np.sqrt(a)\n",
    "print(\"Square root Of An Array\",b)"
   ]
  },
  {
   "cell_type": "code",
   "execution_count": null,
   "id": "98f6bd85",
   "metadata": {},
   "outputs": [],
   "source": [
    "#Print sines of an array\n",
    "\n",
    "a=np.array([90,0,60,30])\n",
    "np.sin(a)"
   ]
  },
  {
   "cell_type": "code",
   "execution_count": null,
   "id": "f352e100",
   "metadata": {},
   "outputs": [],
   "source": [
    "#Element-wise cosi\n",
    "\n",
    "a=np.array([0,30,45,90])\n",
    "np.cos(a)"
   ]
  },
  {
   "cell_type": "code",
   "execution_count": null,
   "id": "0e471650",
   "metadata": {},
   "outputs": [],
   "source": [
    "# log\n",
    "\n",
    "a=np.array([5,2,3])\n",
    "np.log(a) "
   ]
  },
  {
   "cell_type": "code",
   "execution_count": null,
   "id": "1985a6ed",
   "metadata": {},
   "outputs": [],
   "source": [
    "# Dot Product\n",
    "\n",
    "a=np.array([1,2,3])\n",
    "b=np.array([4,5,6])\n",
    "a.dot(b)"
   ]
  },
  {
   "cell_type": "code",
   "execution_count": null,
   "id": "fd22f787",
   "metadata": {},
   "outputs": [],
   "source": []
  }
 ],
 "metadata": {
  "kernelspec": {
   "display_name": "Python 3 (ipykernel)",
   "language": "python",
   "name": "python3"
  },
  "language_info": {
   "codemirror_mode": {
    "name": "ipython",
    "version": 3
   },
   "file_extension": ".py",
   "mimetype": "text/x-python",
   "name": "python",
   "nbconvert_exporter": "python",
   "pygments_lexer": "ipython3",
   "version": "3.9.13"
  }
 },
 "nbformat": 4,
 "nbformat_minor": 5
}
