{
 "cells": [
  {
   "cell_type": "markdown",
   "id": "39319c4c",
   "metadata": {},
   "source": [
    "# NUMPY"
   ]
  },
  {
   "cell_type": "code",
   "execution_count": 1,
   "id": "4999e313",
   "metadata": {},
   "outputs": [],
   "source": [
    "import numpy as np"
   ]
  },
  {
   "cell_type": "markdown",
   "id": "f5fde84e",
   "metadata": {},
   "source": [
    "# Subsetting , Slicing"
   ]
  },
  {
   "cell_type": "markdown",
   "id": "d7ba8524",
   "metadata": {},
   "source": [
    "# Subsetting"
   ]
  },
  {
   "cell_type": "code",
   "execution_count": 2,
   "id": "f028f992",
   "metadata": {},
   "outputs": [
    {
     "name": "stdout",
     "output_type": "stream",
     "text": [
      "[1 8 9 3 5]\n",
      "Selecting the element : 9\n"
     ]
    }
   ],
   "source": [
    "# Select the element at the 2nd index\n",
    "\n",
    "a=np.array([1,8,9,3,5])\n",
    "print(a)\n",
    "c=a[2]\n",
    "print(\"Selecting the element :\", c)"
   ]
  },
  {
   "cell_type": "code",
   "execution_count": 3,
   "id": "c286d780",
   "metadata": {},
   "outputs": [
    {
     "name": "stdout",
     "output_type": "stream",
     "text": [
      "Select the element at row 0 column 2  : 8\n"
     ]
    }
   ],
   "source": [
    "# Select the element at row 0 column 2 (equivalent to b[0][2])\n",
    "\n",
    "a=np.array([[1,8,9,8,5],[2,9,1,4,7]])\n",
    "b=a[0,3]\n",
    "print(\"Select the element at row 0 column 2  :\", b)"
   ]
  },
  {
   "cell_type": "code",
   "execution_count": 4,
   "id": "c3e36976",
   "metadata": {},
   "outputs": [
    {
     "name": "stdout",
     "output_type": "stream",
     "text": [
      "Select the element at row 1 column 2  : 7\n"
     ]
    }
   ],
   "source": [
    "# Select the element at row 1 column 2 (equivalent to b[1][2])\n",
    "\n",
    "a=np.array([[1,8,9,8,5],[2,9,1,4,7]])\n",
    "b=a[1,4]\n",
    "print(\"Select the element at row 1 column 2  :\", b)"
   ]
  },
  {
   "cell_type": "markdown",
   "id": "5a6b2513",
   "metadata": {},
   "source": [
    "# Slicing"
   ]
  },
  {
   "cell_type": "code",
   "execution_count": 5,
   "id": "b9b4783d",
   "metadata": {},
   "outputs": [
    {
     "name": "stdout",
     "output_type": "stream",
     "text": [
      "Reverse array : [15 10 48 80 17]\n"
     ]
    }
   ],
   "source": [
    "#Reversed array a array\n",
    "\n",
    "a=np.array([17,80,48,10,15])\n",
    "b=a[: : -1]\n",
    "print(\"Reverse array :\" ,b)"
   ]
  },
  {
   "cell_type": "code",
   "execution_count": 6,
   "id": "950c6543",
   "metadata": {},
   "outputs": [
    {
     "name": "stdout",
     "output_type": "stream",
     "text": [
      "Select items at index : [1 8]\n"
     ]
    }
   ],
   "source": [
    "# Select items at index 0 and 1\n",
    "\n",
    "a=np.array([1,8,9,8,5])\n",
    "b=a[0:2]\n",
    "print(\"Select items at index :\", b)\n",
    "            "
   ]
  },
  {
   "cell_type": "code",
   "execution_count": 7,
   "id": "006cd097",
   "metadata": {},
   "outputs": [
    {
     "name": "stdout",
     "output_type": "stream",
     "text": [
      "Select items at rows and column  : [8 3]\n"
     ]
    }
   ],
   "source": [
    "# Select items at rows 0 and 1 in column 1\n",
    "\n",
    "a=np.array([[1,8,7,6,5],[2,3,0,14,7]])\n",
    "b=a[0:2,1]\n",
    "print(\"Select items at rows and column  :\", b)"
   ]
  },
  {
   "cell_type": "code",
   "execution_count": 8,
   "id": "9d416742",
   "metadata": {},
   "outputs": [
    {
     "name": "stdout",
     "output_type": "stream",
     "text": [
      "Select items at rows and column  : [[1 8 7 6 5]]\n"
     ]
    }
   ],
   "source": [
    "# Select all items at row \n",
    "\n",
    "a=np.array([[1,8,7,6,5],[2,3,0,14,7]])\n",
    "b=a[:1]\n",
    "print(\"Select items at rows and column  :\", b)"
   ]
  },
  {
   "cell_type": "code",
   "execution_count": 9,
   "id": "c20947bf",
   "metadata": {},
   "outputs": [
    {
     "name": "stdout",
     "output_type": "stream",
     "text": [
      "Select items at rows and column  : [[[ 1  8  7  6  5]\n",
      "  [ 2  3  0 14  7]]]\n"
     ]
    }
   ],
   "source": [
    "# Select all items at row 0 (equivalent to b[0:1, :])\n",
    "\n",
    "a=np.array([[[1,8,7,6,5],[2,3,0,14,7],[11,12,13,15,16]]])\n",
    "b=a[0:1,:2]\n",
    "print(\"Select items at rows and column  :\", b)"
   ]
  },
  {
   "cell_type": "code",
   "execution_count": 10,
   "id": "72c9c057",
   "metadata": {},
   "outputs": [
    {
     "name": "stdout",
     "output_type": "stream",
     "text": [
      "Select items at rows and column  : [[[1 8 7]\n",
      "  [2 3 0]]]\n"
     ]
    }
   ],
   "source": [
    "# Select all items at row and column Same as [1,:,:]\n",
    "\n",
    "a=np.array([[[1,8,7,],[2,3,0],[7,0,9]]])\n",
    "b=a[:,:2,:]\n",
    "print(\"Select items at rows and column  :\", b)"
   ]
  },
  {
   "cell_type": "markdown",
   "id": "5b8d0f32",
   "metadata": {},
   "source": [
    "# Array Manipulation"
   ]
  },
  {
   "cell_type": "code",
   "execution_count": 11,
   "id": "3bc42e73",
   "metadata": {},
   "outputs": [
    {
     "name": "stdout",
     "output_type": "stream",
     "text": [
      "[[1 8 5]\n",
      " [2 5 6]]\n",
      "transpose array :  [[1 2]\n",
      " [8 5]\n",
      " [5 6]]\n"
     ]
    }
   ],
   "source": [
    "#  Transpose array\n",
    "\n",
    "a=np.array([[1,8,5],[2,5,6]])\n",
    "print(a)\n",
    "b=np.transpose(a)\n",
    "print(\"transpose array : \", b)"
   ]
  },
  {
   "cell_type": "code",
   "execution_count": 12,
   "id": "100a5760",
   "metadata": {},
   "outputs": [
    {
     "data": {
      "text/plain": [
       "array([[1, 2],\n",
       "       [8, 5],\n",
       "       [5, 6]])"
      ]
     },
     "execution_count": 12,
     "metadata": {},
     "output_type": "execute_result"
    }
   ],
   "source": [
    "a=np.array([[1,8,5],[2,5,6]])\n",
    "a.T "
   ]
  },
  {
   "cell_type": "code",
   "execution_count": 13,
   "id": "a24546cf",
   "metadata": {},
   "outputs": [
    {
     "data": {
      "text/plain": [
       "array([1, 8, 5, 2, 5, 6])"
      ]
     },
     "execution_count": 13,
     "metadata": {},
     "output_type": "execute_result"
    }
   ],
   "source": [
    "#  Changing Array Shape\n",
    "#  Flatten the array\n",
    "\n",
    "a=np.array([[1,8,5],[2,5,6]])\n",
    "a.ravel()"
   ]
  },
  {
   "cell_type": "code",
   "execution_count": 14,
   "id": "0b2b8191",
   "metadata": {},
   "outputs": [
    {
     "data": {
      "text/plain": [
       "array([[1, 8],\n",
       "       [5, 2],\n",
       "       [5, 1]])"
      ]
     },
     "execution_count": 14,
     "metadata": {},
     "output_type": "execute_result"
    }
   ],
   "source": [
    "# Reshape, but don’t change data \n",
    "\n",
    "a=np.array([[1,8,5],[2,5,1]])\n",
    "a.reshape(3,-2)"
   ]
  },
  {
   "cell_type": "markdown",
   "id": "d2a3539b",
   "metadata": {},
   "source": [
    "# Adding/Removing Elements"
   ]
  },
  {
   "cell_type": "code",
   "execution_count": 15,
   "id": "dcfda6c6",
   "metadata": {},
   "outputs": [
    {
     "name": "stdout",
     "output_type": "stream",
     "text": [
      "Shape of  an Array : [[1 8 5 2 5]]\n"
     ]
    }
   ],
   "source": [
    "# Return a new array with shape (1,5)\n",
    "\n",
    "a=np.array([[1,8,5],[2,5,1]])\n",
    "a.resize(1,5)\n",
    "print(\"Shape of  an Array :\", a)"
   ]
  },
  {
   "cell_type": "code",
   "execution_count": 16,
   "id": "23ec15a5",
   "metadata": {},
   "outputs": [],
   "source": [
    "# Return a new array with shape (2,6)\n",
    "\n",
    "a=np.array([[1,8,5],[2,5,1]])\n",
    "a.resize(2,5)"
   ]
  },
  {
   "cell_type": "code",
   "execution_count": 17,
   "id": "ce5ed3b3",
   "metadata": {},
   "outputs": [
    {
     "name": "stdout",
     "output_type": "stream",
     "text": [
      "append the item  : [1 8 5 2 5 1]\n"
     ]
    }
   ],
   "source": [
    "#Append items to an array\n",
    "\n",
    "a=np.array([1,8,5])\n",
    "b=np.array([2,5,1])\n",
    "print(\"append the item  :\" ,np.append(a,b))"
   ]
  },
  {
   "cell_type": "code",
   "execution_count": 18,
   "id": "d9295bc5",
   "metadata": {},
   "outputs": [
    {
     "name": "stdout",
     "output_type": "stream",
     "text": [
      "Insert element  : [1 7 0 5 8 3]\n"
     ]
    }
   ],
   "source": [
    "# Insert items in an array\n",
    "\n",
    "a=np.array([1,0,5,8,3])\n",
    "print(\"Insert element  :\", np.insert(a,1,7))"
   ]
  },
  {
   "cell_type": "code",
   "execution_count": 19,
   "id": "37d3d853",
   "metadata": {},
   "outputs": [
    {
     "name": "stdout",
     "output_type": "stream",
     "text": [
      "Insert element  : [1 0 5 8 7 3]\n"
     ]
    }
   ],
   "source": [
    "# Insert items in an array\n",
    "\n",
    "a=np.array([1,0,5,8,3])\n",
    "print(\"Insert element  :\", np.insert(a,4,7))"
   ]
  },
  {
   "cell_type": "code",
   "execution_count": 20,
   "id": "4104b5fe",
   "metadata": {},
   "outputs": [
    {
     "name": "stdout",
     "output_type": "stream",
     "text": [
      "Delete element  : [ 1 27 16 77]\n"
     ]
    }
   ],
   "source": [
    "# Delete items from an array\n",
    "\n",
    "a=np.array([1,27,16,18,77])\n",
    "print(\"Delete element  :\", np.delete(a,[3]))"
   ]
  },
  {
   "cell_type": "markdown",
   "id": "7954fb1d",
   "metadata": {},
   "source": [
    "#  Combining Arrays"
   ]
  },
  {
   "cell_type": "code",
   "execution_count": 21,
   "id": "2eaf1207",
   "metadata": {},
   "outputs": [
    {
     "name": "stdout",
     "output_type": "stream",
     "text": [
      "Concatenate arrays  : [1 2 3 4 5 6]\n"
     ]
    }
   ],
   "source": [
    "# Concatenate arrays\n",
    "\n",
    "a=np.array([1,2,3])\n",
    "b=np.array([4,5,6])\n",
    "print(\"Concatenate arrays  :\" , np.concatenate((a,b),axis=0))"
   ]
  },
  {
   "cell_type": "code",
   "execution_count": 22,
   "id": "a2324bee",
   "metadata": {},
   "outputs": [
    {
     "name": "stdout",
     "output_type": "stream",
     "text": [
      "vertically row-wise  : [[1 2 3]\n",
      " [4 5 6]]\n"
     ]
    }
   ],
   "source": [
    "# Stack arrays vertically (row-wise)\n",
    "\n",
    "a=np.array([1,2,3])\n",
    "b=np.array([4,5,6])\n",
    "print(\"vertically row-wise  :\" , np.vstack((a,b)))"
   ]
  },
  {
   "cell_type": "code",
   "execution_count": 23,
   "id": "b5a2c208",
   "metadata": {},
   "outputs": [
    {
     "data": {
      "text/plain": [
       "array([1, 2, 3, 4, 5, 6])"
      ]
     },
     "execution_count": 23,
     "metadata": {},
     "output_type": "execute_result"
    }
   ],
   "source": [
    "np.r_[a,b]"
   ]
  },
  {
   "cell_type": "code",
   "execution_count": 24,
   "id": "e6238d46",
   "metadata": {},
   "outputs": [
    {
     "name": "stdout",
     "output_type": "stream",
     "text": [
      " horizontally column-wise  : [11 29  3 45  5 56]\n"
     ]
    }
   ],
   "source": [
    "# Stack arrays horizontally (column-wise)\n",
    "\n",
    "a=np.array([11,29,3])\n",
    "b=np.array([45,5,56])\n",
    "print(\" horizontally column-wise  :\",np.hstack((a,b)))"
   ]
  },
  {
   "cell_type": "code",
   "execution_count": 25,
   "id": "fa6ee9d2",
   "metadata": {},
   "outputs": [
    {
     "name": "stdout",
     "output_type": "stream",
     "text": [
      " Satck column-wise  : [[10 65]\n",
      " [ 9 50]\n",
      " [43  6]]\n"
     ]
    }
   ],
   "source": [
    "#Create stacked column-wise arrays\n",
    "\n",
    "a=np.array([10,9,43])\n",
    "b=np.array([65,50,6])\n",
    "print(\" Satck column-wise  :\",np.column_stack((a,b)))"
   ]
  },
  {
   "cell_type": "code",
   "execution_count": 26,
   "id": "4b2442a0",
   "metadata": {},
   "outputs": [
    {
     "data": {
      "text/plain": [
       "array([[10, 65],\n",
       "       [ 9, 50],\n",
       "       [43,  6]])"
      ]
     },
     "execution_count": 26,
     "metadata": {},
     "output_type": "execute_result"
    }
   ],
   "source": [
    "np.c_[a,b]"
   ]
  },
  {
   "cell_type": "markdown",
   "id": "9c21aee2",
   "metadata": {},
   "source": [
    "#  Splitting Arrays"
   ]
  },
  {
   "cell_type": "code",
   "execution_count": 28,
   "id": "9aa7478a",
   "metadata": {},
   "outputs": [
    {
     "name": "stdout",
     "output_type": "stream",
     "text": [
      "Split the array horizontally  : [array([10]), array([9]), array([43])]\n"
     ]
    }
   ],
   "source": [
    "#  Split the array horizontally at the 3rd index\n",
    "\n",
    "a=np.array([10,9,43])\n",
    "print(\"Split the array horizontally  :\", np.hsplit(a,3))"
   ]
  },
  {
   "cell_type": "code",
   "execution_count": 29,
   "id": "f7341183",
   "metadata": {},
   "outputs": [
    {
     "name": "stdout",
     "output_type": "stream",
     "text": [
      "Split the array vertically  :  [array([[9, 7, 2, 4],\n",
      "       [8, 0, 7, 3]])]\n"
     ]
    }
   ],
   "source": [
    "# Split the array vertically at the 1st index\n",
    "\n",
    "a=np.array([[9,7,2,4],[8,0,7,3]])\n",
    "print(\"Split the array vertically  : \", np.vsplit(a,1))"
   ]
  },
  {
   "cell_type": "code",
   "execution_count": 30,
   "id": "24e13907",
   "metadata": {},
   "outputs": [
    {
     "name": "stdout",
     "output_type": "stream",
     "text": [
      "Split the array vertically  :  [array([[9, 7, 2, 4]]), array([[8, 0, 7, 3]])]\n"
     ]
    }
   ],
   "source": [
    "# Split the array vertically at the 2nd index\n",
    "\n",
    "a=np.array([[9,7,2,4],[8,0,7,3]])\n",
    "print(\"Split the array vertically  : \", np.vsplit(a,2))"
   ]
  },
  {
   "cell_type": "markdown",
   "id": "b2754455",
   "metadata": {},
   "source": [
    "#  Asking For Help"
   ]
  },
  {
   "cell_type": "code",
   "execution_count": 31,
   "id": "aae25926",
   "metadata": {},
   "outputs": [
    {
     "name": "stdout",
     "output_type": "stream",
     "text": [
      "Data-type of the array's elements.\n",
      "\n",
      "Parameters\n",
      "----------\n",
      "None\n",
      "\n",
      "Returns\n",
      "-------\n",
      "d : numpy dtype object\n",
      "\n",
      "See Also\n",
      "--------\n",
      "numpy.dtype\n",
      "\n",
      "Examples\n",
      "--------\n",
      ">>> x\n",
      "array([[0, 1],\n",
      "       [2, 3]])\n",
      ">>> x.dtype\n",
      "dtype('int32')\n",
      ">>> type(x.dtype)\n",
      "<type 'numpy.dtype'>\n"
     ]
    }
   ],
   "source": [
    "np.info(np.ndarray.dtype)"
   ]
  },
  {
   "cell_type": "code",
   "execution_count": null,
   "id": "8ac42e15",
   "metadata": {},
   "outputs": [],
   "source": []
  }
 ],
 "metadata": {
  "kernelspec": {
   "display_name": "Python 3 (ipykernel)",
   "language": "python",
   "name": "python3"
  },
  "language_info": {
   "codemirror_mode": {
    "name": "ipython",
    "version": 3
   },
   "file_extension": ".py",
   "mimetype": "text/x-python",
   "name": "python",
   "nbconvert_exporter": "python",
   "pygments_lexer": "ipython3",
   "version": "3.9.13"
  }
 },
 "nbformat": 4,
 "nbformat_minor": 5
}
